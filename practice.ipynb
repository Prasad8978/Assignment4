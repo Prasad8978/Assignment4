{
 "cells": [
  {
   "cell_type": "markdown",
   "id": "2d3699a5",
   "metadata": {},
   "source": [
    "## Write a Python program to create a lambda function that adds 25 to a given number passed in as an argument."
   ]
  },
  {
   "cell_type": "code",
   "execution_count": 5,
   "id": "14fc546d",
   "metadata": {},
   "outputs": [
    {
     "data": {
      "text/plain": [
       "70"
      ]
     },
     "execution_count": 5,
     "metadata": {},
     "output_type": "execute_result"
    }
   ],
   "source": [
    "a = lambda x:x+25\n",
    "a(45)"
   ]
  },
  {
   "cell_type": "markdown",
   "id": "4c32f835",
   "metadata": {},
   "source": [
    "## Write a Python program to triple all numbers of a given list of integers. Use Python map."
   ]
  },
  {
   "cell_type": "code",
   "execution_count": 3,
   "id": "3b6be1fa",
   "metadata": {},
   "outputs": [
    {
     "data": {
      "text/plain": [
       "[3, 6, 9, 12, 15, 18, 21]"
      ]
     },
     "execution_count": 3,
     "metadata": {},
     "output_type": "execute_result"
    }
   ],
   "source": [
    "def mul3(x):\n",
    "    return x*3\n",
    "list(map(mul3,[1,2,3,4,5,6,7]))"
   ]
  },
  {
   "cell_type": "markdown",
   "id": "8a7de759",
   "metadata": {},
   "source": [
    "## Write a Python program to square the elements of a list using map() function."
   ]
  },
  {
   "cell_type": "code",
   "execution_count": 4,
   "id": "d38efa7f",
   "metadata": {},
   "outputs": [
    {
     "data": {
      "text/plain": [
       "[16, 25, 4, 81]"
      ]
     },
     "execution_count": 4,
     "metadata": {},
     "output_type": "execute_result"
    }
   ],
   "source": [
    "def square(x):\n",
    "    return x**2\n",
    "list(map(square,[4,5,2,9]))"
   ]
  },
  {
   "cell_type": "code",
   "execution_count": null,
   "id": "410121cb",
   "metadata": {},
   "outputs": [],
   "source": []
  }
 ],
 "metadata": {
  "kernelspec": {
   "display_name": "Python 3 (ipykernel)",
   "language": "python",
   "name": "python3"
  },
  "language_info": {
   "codemirror_mode": {
    "name": "ipython",
    "version": 3
   },
   "file_extension": ".py",
   "mimetype": "text/x-python",
   "name": "python",
   "nbconvert_exporter": "python",
   "pygments_lexer": "ipython3",
   "version": "3.10.0"
  }
 },
 "nbformat": 4,
 "nbformat_minor": 5
}
